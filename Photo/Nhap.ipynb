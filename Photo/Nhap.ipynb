{
 "cells": [
  {
   "cell_type": "code",
   "execution_count": 14,
   "metadata": {},
   "outputs": [
    {
     "name": "stdout",
     "output_type": "stream",
     "text": [
      "[136 110  96 ... 160 167 187]\n",
      "[66 62 65 ... 60 69 78]\n",
      "65577.89489606998\n",
      "Identified person: Unknown\n"
     ]
    }
   ],
   "source": [
    "import numpy as np\n",
    "import cv2 as cv\n",
    "\n",
    "# Đọc ảnh và mã hóa ảnh thành ma trận\n",
    "def encode_image(image_path):\n",
    "    image = cv.imread(image_path)\n",
    "    image = cv.resize(image,(256,256))\n",
    "    # image = np.load(image_path)  # Đọc ảnh từ file\n",
    "    image_encoding = np.array(image).flatten()  # Mã hóa ma trận ảnh thành một dãy số\n",
    "    print(image_encoding)\n",
    "    return image_encoding\n",
    "\n",
    "\n",
    "# Tạo biểu diễn số học của khuôn mặt đã biết\n",
    "known_face_encodings = {\n",
    "    \"Person 1\": encode_image(\"person1.jpg\"),\n",
    "    # Thêm biểu diễn số học cho các người khác\n",
    "}\n",
    "\n",
    "\n",
    "# Tạo biểu diễn số học của khuôn mặt từ ảnh mới\n",
    "unknown_image_path = \"unknown.jpg\"  # Thay thế bằng đường dẫn tới file ảnh\n",
    "unknown_face_encoding = encode_image(unknown_image_path)\n",
    "\n",
    "# So sánh biểu diễn số học của khuôn mặt mới với các biểu diễn số học đã biết\n",
    "min_distance = float('inf')\n",
    "identified_person = \"Unknown\"\n",
    "\n",
    "for name, known_encoding in known_face_encodings.items():\n",
    "    distance = np.linalg.norm(unknown_face_encoding - known_encoding)\n",
    "    print(distance)\n",
    "    if distance < min_distance:\n",
    "        min_distance = distance\n",
    "        identified_person = name\n",
    "\n",
    "print(f\"Identified person: {identified_person}\")\n"
   ]
  }
 ],
 "metadata": {
  "kernelspec": {
   "display_name": "Python 3",
   "language": "python",
   "name": "python3"
  },
  "language_info": {
   "codemirror_mode": {
    "name": "ipython",
    "version": 3
   },
   "file_extension": ".py",
   "mimetype": "text/x-python",
   "name": "python",
   "nbconvert_exporter": "python",
   "pygments_lexer": "ipython3",
   "version": "3.11.2"
  },
  "orig_nbformat": 4
 },
 "nbformat": 4,
 "nbformat_minor": 2
}
